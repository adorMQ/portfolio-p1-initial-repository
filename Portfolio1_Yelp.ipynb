{
  "nbformat": 4,
  "nbformat_minor": 0,
  "metadata": {
    "colab": {
      "provenance": [],
      "authorship_tag": "ABX9TyOhzQ8dwRIhTm1IgMZa4QAo",
      "include_colab_link": true
    },
    "kernelspec": {
      "name": "python3",
      "display_name": "Python 3"
    },
    "language_info": {
      "name": "python"
    }
  },
  "cells": [
    {
      "cell_type": "markdown",
      "metadata": {
        "id": "view-in-github",
        "colab_type": "text"
      },
      "source": [
        "<a href=\"https://colab.research.google.com/github/adorMQ/portfolio-p1-initial-repository/blob/main/Portfolio1_Yelp.ipynb\" target=\"_parent\"><img src=\"https://colab.research.google.com/assets/colab-badge.svg\" alt=\"Open In Colab\"/></a>"
      ]
    },
    {
      "cell_type": "code",
      "execution_count": null,
      "metadata": {
        "id": "ig7976WumOCA"
      },
      "outputs": [],
      "source": []
    },
    {
      "cell_type": "markdown",
      "source": [
        "**Analysis of Yelp Data**\n",
        "\n",
        "<font size=\"6\">**Analysis of Yelp Data**</font>\n",
        "\n",
        "The Yelp dataset is a collection of user-generated reviews and associated data for businesses in various cities. The data includes information such as the business name, category, location, and rating, as well as the user ID and review text for each review. This data can be used to analyze patterns and trends in consumer behavior, business performance, and geographic locations. Additionally, the dataset provides an opportunity to explore the relationships between different variables, such as ratings, reviews, and business categories. This data can be leveraged to gain insights and make informed decisions in a variety of industries, including marketing, business management, and public policy.\n",
        "\n",
        "**Description of the variables of the data used here.**\n",
        "\n",
        "**business_id** - A unique identifier for each business in the dataset\n",
        "\n",
        "**business_categories** - A list of categories associated with the business\n",
        "\n",
        "**business_city** - The city where the business is located.\n",
        "\n",
        "**user_id** - A unique identifier for each user who has written a review.\n",
        "\n",
        "**text** - The text of the review.\n",
        "\n",
        "**stars** - The user's rating towards the business\n",
        "\n",
        "**useful** - The number of times the review was voted as useful.\n",
        "\n",
        "**date** - The date the review was posted.\n"
      ],
      "metadata": {
        "id": "zmR5iDzNmbdb"
      }
    },
    {
      "cell_type": "code",
      "source": [],
      "metadata": {
        "id": "Yg3Gtc2Xmb4f"
      },
      "execution_count": null,
      "outputs": []
    },
    {
      "cell_type": "markdown",
      "source": [],
      "metadata": {
        "id": "DWySy7sTmb-Y"
      }
    }
  ]
}